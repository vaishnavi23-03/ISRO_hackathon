{
 "cells": [
  {
   "cell_type": "code",
   "execution_count": 38,
   "id": "d7f4f728-0e35-40a9-a383-49c02a738b5b",
   "metadata": {},
   "outputs": [
    {
     "data": {
      "text/plain": [
       "4313.691666666667"
      ]
     },
     "execution_count": 38,
     "metadata": {},
     "output_type": "execute_result"
    }
   ],
   "source": [
    "import requests\n",
    "import pandas as pd\n",
    "\n",
    "# Replace with your NREL API key\n",
    "api_key = '0em4WgyMZMchBy87jXZjuQA2JndiAfJkbcjeEnQ3'\n",
    "\n",
    "latitude = 36.77825\n",
    "longitude = -119.417931\n",
    "\n",
    "url = 'https://developer.nrel.gov/api/solar/solar_resource/v1.json'\n",
    "\n",
    "params = {\n",
    "    'api_key': api_key,\n",
    "    'lat': latitude,\n",
    "    'lon': longitude\n",
    "}\n",
    "\n",
    "\n",
    "response = requests.get(url, params=params)\n",
    "data = response.json()\n",
    "\n",
    "#print(data)\n",
    "\n",
    "solar_data = data.get('outputs', {})\n",
    "avg_dni = solar_data.get('avg_dni', {}).get('monthly', [])\n",
    "avg_ghi = solar_data.get('avg_ghi', {}).get('monthly', [])\n",
    "avg_lat_tilt = solar_data.get('avg_lat_tilt', {}).get('monthly', [])\n",
    "\n",
    "\n",
    "month_order = ['jan', 'feb', 'mar', 'apr', 'may', 'jun', 'jul', 'aug', 'sep', 'oct', 'nov', 'dec']\n",
    "avg_dni_list = [avg_dni[month] for month in month_order]\n",
    "avg_ghi_list = [avg_ghi[month] for month in month_order]\n",
    "avg_tilt_list = [avg_lat_tilt[month] for month in month_order]\n",
    "\n",
    "panel_area = 10  # in square meters\n",
    "efficiency = 0.20  # 20% efficiency\n",
    "\n",
    "#ghi for horizontally mounted panels\n",
    "#dni for panels directly facing the sun\n",
    "#tilt most preferred orientation for solar panels\n",
    "\n",
    "annual_irradiance_tilt = sum(avg_tilt_list) * 365/12\n",
    "\n",
    "annual_energy_output_tilt = annual_irradiance_tilt * panel_area * efficiency\n",
    "annual_energy_output_tilt"
   ]
  },
  {
   "cell_type": "code",
   "execution_count": 21,
   "id": "eb8df6ae-dc5d-4190-95d3-2cfcdb6b3f38",
   "metadata": {},
   "outputs": [
    {
     "name": "stdout",
     "output_type": "stream",
     "text": [
      "[3.23, 3.89, 4.09, 4.1, 4.16, 4.23, 4.32, 4.18, 4.1, 3.42, 2.79, 2.97]\n",
      "[2.0, 2.89, 3.91, 4.77, 5.51, 5.85, 5.85, 5.17, 4.3, 3.03, 2.08, 1.75]\n",
      "[3.61, 4.45, 4.92, 5.05, 5.24, 5.31, 5.46, 5.28, 5.1, 4.26, 3.44, 3.34]\n"
     ]
    }
   ],
   "source": [
    "print(avg_dni_list)\n",
    "print(avg_ghi_list)\n",
    "print(avg_tilt_list)"
   ]
  },
  {
   "cell_type": "code",
   "execution_count": null,
   "id": "3a464eb7-8c5a-4f1a-9217-c13e55e13859",
   "metadata": {},
   "outputs": [],
   "source": []
  }
 ],
 "metadata": {
  "kernelspec": {
   "display_name": "Python 3 (ipykernel)",
   "language": "python",
   "name": "python3"
  },
  "language_info": {
   "codemirror_mode": {
    "name": "ipython",
    "version": 3
   },
   "file_extension": ".py",
   "mimetype": "text/x-python",
   "name": "python",
   "nbconvert_exporter": "python",
   "pygments_lexer": "ipython3",
   "version": "3.12.1"
  }
 },
 "nbformat": 4,
 "nbformat_minor": 5
}
